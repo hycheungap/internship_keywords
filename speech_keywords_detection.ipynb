{
  "nbformat": 4,
  "nbformat_minor": 0,
  "metadata": {
    "colab": {
      "name": "speech_keywords_detection",
      "provenance": [],
      "authorship_tag": "ABX9TyMLo10IcfcpXQ0GBqL7cm0v",
      "include_colab_link": true
    },
    "kernelspec": {
      "name": "python3",
      "display_name": "Python 3"
    },
    "language_info": {
      "name": "python"
    }
  },
  "cells": [
    {
      "cell_type": "markdown",
      "metadata": {
        "id": "view-in-github",
        "colab_type": "text"
      },
      "source": [
        "<a href=\"https://colab.research.google.com/github/hycheungap/internship_keywords/blob/main/speech_keywords_detection.ipynb\" target=\"_parent\"><img src=\"https://colab.research.google.com/assets/colab-badge.svg\" alt=\"Open In Colab\"/></a>"
      ]
    },
    {
      "cell_type": "code",
      "metadata": {
        "id": "E7f6vEQ3w8wD"
      },
      "source": [
        "!pip install transformers\n",
        "!pip install pydub"
      ],
      "execution_count": null,
      "outputs": []
    },
    {
      "cell_type": "markdown",
      "metadata": {
        "id": "u8-porWxxT_D"
      },
      "source": [
        "Import Library"
      ]
    },
    {
      "cell_type": "code",
      "metadata": {
        "id": "RlR6qMPFxBlR"
      },
      "source": [
        "import librosa\n",
        "import torch\n",
        "from transformers import Wav2Vec2ForCTC, Wav2Vec2Tokenizer\n",
        "from pydub import AudioSegment"
      ],
      "execution_count": null,
      "outputs": []
    },
    {
      "cell_type": "code",
      "metadata": {
        "id": "2ATlpVDGxFBj"
      },
      "source": [
        "m4a_audio = AudioSegment.from_file('/content/barackobama2004dncARXE.mp3', format='mp3')\n",
        "#convert mp3 to wav to fit wav2vec file type\n",
        "m4a_audio.export('/content/barackobama2004dncARXE.wav', format='wav')"
      ],
      "execution_count": null,
      "outputs": []
    },
    {
      "cell_type": "code",
      "metadata": {
        "id": "urIF_4xsxFi1"
      },
      "source": [
        "mp3_audio = AudioSegment.from_file('/content/barackobama2004dncARXE.wav', format='wav')\n",
        "print(len(mp3_audio)/(1000*60))\n",
        "# 15 Minutes audio breaks into 3 minutes 5 audio files (slicingis done by milliseconds)\n",
        "\n",
        "counter_audio = 180\n",
        "split_audio = [mp3_audio[:180*1000]]\n",
        "for i in range(4):\n",
        "    split_audio.append(mp3_audio[counter_audio*1000:(counter_audio+180)*1000])\n",
        "    counter_audio += 180\n",
        "\n",
        "count = 0\n",
        "# # lets save it!\n",
        "for count, audio_object in enumerate(split_audio):\n",
        "    count += 1\n",
        "    with open(f\"{count}_audi_file.wav\", 'wb') as out_f:\n",
        "        audio_object.export(out_f, format='wav')"
      ],
      "execution_count": null,
      "outputs": []
    },
    {
      "cell_type": "code",
      "metadata": {
        "id": "oGGYRWzmxHwR"
      },
      "source": [
        "tokenizer = Wav2Vec2Tokenizer.from_pretrained(\"facebook/wav2vec2-base-960h\")\n",
        "model = Wav2Vec2ForCTC.from_pretrained(\"facebook/wav2vec2-base-960h\")"
      ],
      "execution_count": null,
      "outputs": []
    },
    {
      "cell_type": "code",
      "metadata": {
        "id": "0pAf94P7xJ11"
      },
      "source": [
        "# # load any audio file of your choice\n",
        "collection_of_text = []\n",
        "for i in range(4):\n",
        "\n",
        "    speech, rate = librosa.load(f'{i+1}_audi_file.wav' ,sr=16000)\n",
        "\n",
        "    input_values = tokenizer(speech, return_tensors='pt').input_values\n",
        "    # Store logits (non-normalized predictions)\n",
        "    with torch.no_grad():\n",
        "        logits = model(input_values).logits\n",
        "\n",
        "    # Store predicted id's\n",
        "    predicted_ids = torch.argmax(logits, dim=-1)\n",
        "    # decode the audio to generate text\n",
        "    # Passing the prediction to the tokenzer decode to get the transcription\n",
        "    transcription = tokenizer.batch_decode(predicted_ids)[0]\n",
        "    # transcriptions = tokenizer.decode(predicted_ids[0])\n",
        "    print(transcription)\n",
        "    collection_of_text.append(transcription)\n",
        "\n",
        "print(collection_of_text)\n",
        "final_complete_speech = \"\"\n",
        "\n",
        "# convert batch of text into one complete sentence\n",
        "for i in collection_of_text:\n",
        "    final_complete_speech += i\n",
        "\n",
        "print(final_complete_speech)"
      ],
      "execution_count": null,
      "outputs": []
    },
    {
      "cell_type": "code",
      "metadata": {
        "id": "xpu_cHduxMT7"
      },
      "source": [
        "# use this code to install Spacy, Scispacy and en_core_sci_scibert model\n",
        "! pip install -U pip setuptools wheel\n",
        "! pip install -U spacy\n",
        "! pip install scispacy\n",
        "! pip install https://s3-us-west-2.amazonaws.com/ai2-s2-scispacy/releases/v0.4.0/en_core_sci_scibert-0.4.0.tar.gz"
      ],
      "execution_count": null,
      "outputs": []
    },
    {
      "cell_type": "code",
      "metadata": {
        "id": "97O1qK_MxQS7"
      },
      "source": [
        "import spacy"
      ],
      "execution_count": null,
      "outputs": []
    },
    {
      "cell_type": "code",
      "metadata": {
        "id": "ZaqmZTNQxRFY"
      },
      "source": [
        "nlp = spacy.load('en_core_sci_scibert')\n",
        "doc = nlp(final_complete_speech.lower())\n",
        "print(doc.ents)"
      ],
      "execution_count": null,
      "outputs": []
    }
  ]
}